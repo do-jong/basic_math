{
  "cells": [
    {
      "cell_type": "code",
      "execution_count": 1,
      "metadata": {
        "colab": {
          "base_uri": "https://localhost:8080/"
        },
        "id": "hD6u9Oqt_R0b",
        "outputId": "44969202-a8ba-4a2a-b869-8d90f0088760"
      },
      "outputs": [
        {
          "output_type": "stream",
          "name": "stdout",
          "text": [
            "[1 2 3]\n"
          ]
        }
      ],
      "source": [
        "# Part 3 선형대수학\n",
        "# 10장 벡터와 공간\n",
        "# 10.1 벡터\n",
        "# 10.1.2 벡터란\n",
        "# 벡터란\n",
        "\n",
        "# Numpy 라이브러리 호출\n",
        "import numpy as np\n",
        "x = np.array([1, 2, 3]) # 크기가 (3, )인 1차원 배열의 표현\n",
        "print(x)"
      ]
    },
    {
      "cell_type": "code",
      "execution_count": null,
      "metadata": {
        "id": "jGNMVqan_R0c",
        "outputId": "264c946f-d3bc-4a28-d121-fbd3e1aab4e0"
      },
      "outputs": [
        {
          "name": "stdout",
          "output_type": "stream",
          "text": [
            "[[1 2 3]]\n"
          ]
        }
      ],
      "source": [
        "u = np.array([[1, 2, 3]])  # 크기가 (1, 3)인 2차원 배열의 표현(행 벡터)\n",
        "print(u)"
      ]
    },
    {
      "cell_type": "code",
      "execution_count": null,
      "metadata": {
        "id": "QGgsxY1H_R0c",
        "outputId": "5b34396c-78c6-4193-ecc7-741e5cd8ea94"
      },
      "outputs": [
        {
          "name": "stdout",
          "output_type": "stream",
          "text": [
            "[[1]\n",
            " [2]\n",
            " [3]]\n"
          ]
        }
      ],
      "source": [
        "v = np.array([[1], [2], [3]]) # 크기가 (3, 1)인 2차원 배열의 표현(열 벡터)\n",
        "print(v)"
      ]
    },
    {
      "cell_type": "code",
      "execution_count": null,
      "metadata": {
        "id": "H4vMddiG_R0c",
        "outputId": "f353cb7b-b66c-4c43-e9b6-74309f18a2c9"
      },
      "outputs": [
        {
          "data": {
            "text/plain": [
              "{1: 0.3333333333333333, 2: 0.6666666666666666, 3: 0.0}"
            ]
          },
          "execution_count": 4,
          "metadata": {},
          "output_type": "execute_result"
        }
      ],
      "source": [
        "# 벡터의 표현(확률분포를 벡터로 표현)\n",
        "{1: 1/3, 2: 2/3, 3: 0/3}"
      ]
    },
    {
      "cell_type": "code",
      "execution_count": null,
      "metadata": {
        "id": "eHK7B3Pu_R0d",
        "outputId": "5692c8bc-9862-4ae0-8560-943a1bb93039"
      },
      "outputs": [
        {
          "name": "stdout",
          "output_type": "stream",
          "text": [
            "[0.53452248 0.80178373 0.26726124]\n"
          ]
        }
      ],
      "source": [
        "# 10.1.3 특수한 벡터\n",
        "# 벡터란\n",
        "# 단위벡터\n",
        "\n",
        "import numpy as np\n",
        "from scipy import linalg\n",
        "\n",
        "# 단위 벡터를 위해 두가지 방법을 사용할 수 있다.\n",
        "# NumPy의 서브 패키지인 linalg에서 제공하는 함수 norm()을 사용하여\n",
        "# 벡터의 크기를 계산한 후 기존 벡터로 나눠준다.\n",
        "\n",
        "s=np.array([2,3,1])\n",
        "v_hat01 = s / linalg.norm(s)\n",
        "print(v_hat01)"
      ]
    },
    {
      "cell_type": "code",
      "execution_count": null,
      "metadata": {
        "id": "EUaVagVU_R0d",
        "outputId": "2fb339ba-0c39-49fe-a8ed-31f77dbd9c34"
      },
      "outputs": [
        {
          "name": "stdout",
          "output_type": "stream",
          "text": [
            "[ 0.31622777 -0.9486833 ]\n"
          ]
        }
      ],
      "source": [
        "# 파이썬 문제풀이(1)\n",
        "\n",
        "import numpy as np\n",
        "x=np.array([1, -3])\n",
        "v_hat = x / linalg.norm(x)\n",
        "print(v_hat)"
      ]
    },
    {
      "cell_type": "code",
      "execution_count": null,
      "metadata": {
        "id": "AHCo8zm__R0d",
        "outputId": "151017fc-3b96-4259-f8cb-aa732d923df6"
      },
      "outputs": [
        {
          "data": {
            "text/plain": [
              "array([-0.6, -0.8])"
            ]
          },
          "execution_count": 7,
          "metadata": {},
          "output_type": "execute_result"
        }
      ],
      "source": [
        "# 파이썬 문제풀이(2)\n",
        "\n",
        "import numpy as np\n",
        "x=np.array([-6,-8])\n",
        "v_hat2 = x / (x**2).sum()**0.5\n",
        "v_hat2"
      ]
    },
    {
      "cell_type": "code",
      "execution_count": null,
      "metadata": {
        "id": "5ZtdaJou_R0d",
        "outputId": "5c7a6a44-1e51-4dda-838c-8a87042d995a"
      },
      "outputs": [
        {
          "name": "stdout",
          "output_type": "stream",
          "text": [
            "[-0.78086881 -0.62469505]\n"
          ]
        }
      ],
      "source": [
        "# 파이썬 문제풀이(3)\n",
        "import numpy as np\n",
        "x=np.array([-5, -4])\n",
        "v_hat = x / linalg.norm(x)\n",
        "print (v_hat)"
      ]
    },
    {
      "cell_type": "code",
      "execution_count": null,
      "metadata": {
        "id": "-_bHEOd4_R0d",
        "outputId": "5f2413c3-6310-4c17-f698-c9ec99f9043a"
      },
      "outputs": [
        {
          "data": {
            "text/plain": [
              "array([0., 0., 0., 0., 0.])"
            ]
          },
          "execution_count": 9,
          "metadata": {},
          "output_type": "execute_result"
        }
      ],
      "source": [
        "# 영벡터\n",
        "\n",
        "import numpy as np\n",
        "np.zeros(5)"
      ]
    },
    {
      "cell_type": "code",
      "execution_count": null,
      "metadata": {
        "id": "BMh6DJAK_R0e",
        "outputId": "09a72675-d367-4ec2-aa53-22e2ead9f5a7"
      },
      "outputs": [
        {
          "data": {
            "text/plain": [
              "(5,)"
            ]
          },
          "execution_count": 10,
          "metadata": {},
          "output_type": "execute_result"
        }
      ],
      "source": [
        "np.zeros(5).shape"
      ]
    },
    {
      "cell_type": "code",
      "execution_count": null,
      "metadata": {
        "id": "iNSR5LgE_R0e",
        "outputId": "2ffe16d9-db9f-4419-bf19-1d78a57df634"
      },
      "outputs": [
        {
          "data": {
            "text/plain": [
              "array([[0., 0.],\n",
              "       [0., 0.]])"
            ]
          },
          "execution_count": 11,
          "metadata": {},
          "output_type": "execute_result"
        }
      ],
      "source": [
        "s = (2,2)\n",
        "np.zeros(s)"
      ]
    },
    {
      "cell_type": "code",
      "execution_count": null,
      "metadata": {
        "id": "y4Vt3Ukb_R0e",
        "outputId": "e267b772-feaa-407e-97c5-15424fa498be"
      },
      "outputs": [
        {
          "name": "stdout",
          "output_type": "stream",
          "text": [
            "[ 5 -2]\n"
          ]
        }
      ],
      "source": [
        "# 10.2 선형 결합과 선형 독립\n",
        "# 10.2.1 선형 결합(linear combination)과 생성(span)\n",
        "\n",
        "import numpy as np\n",
        "a = np.array([2,4])\n",
        "b = np.array([1,6])\n",
        "c=(4*a)+((-3)*b)\n",
        "print(c)"
      ]
    },
    {
      "cell_type": "code",
      "execution_count": 5,
      "metadata": {
        "colab": {
          "base_uri": "https://localhost:8080/"
        },
        "id": "S4B3wM6W_R0e",
        "outputId": "6e00d96c-8334-49ce-f91d-6d0546ff385f"
      },
      "outputs": [
        {
          "output_type": "stream",
          "name": "stdout",
          "text": [
            "[[2 4]\n",
            " [1 2]]\n"
          ]
        },
        {
          "output_type": "execute_result",
          "data": {
            "text/plain": [
              "1"
            ]
          },
          "metadata": {},
          "execution_count": 5
        }
      ],
      "source": [
        "# 10.2.3 부분공간과 부분공간의 기저\n",
        "# 랭크(rank)\n",
        "\n",
        "import numpy as np\n",
        "X1 = np.array([[2, 4], [1, 2]])\n",
        "print(X1)\n",
        "np.linalg.matrix_rank(X1)"
      ]
    },
    {
      "cell_type": "code",
      "execution_count": 6,
      "metadata": {
        "colab": {
          "base_uri": "https://localhost:8080/"
        },
        "id": "ukvNB8xG_R0e",
        "outputId": "1269c1cd-d27c-447a-e440-45278ba2157a"
      },
      "outputs": [
        {
          "output_type": "execute_result",
          "data": {
            "text/plain": [
              "2"
            ]
          },
          "metadata": {},
          "execution_count": 6
        }
      ],
      "source": [
        "X1 = np.array([[2, 11], [3, 6]])\n",
        "np.linalg.matrix_rank(X1)"
      ]
    },
    {
      "cell_type": "code",
      "execution_count": 7,
      "metadata": {
        "colab": {
          "base_uri": "https://localhost:8080/"
        },
        "id": "Gz1qqgif_R0e",
        "outputId": "d1d79f7e-a3fd-4963-e97c-19148dd9a9d2"
      },
      "outputs": [
        {
          "output_type": "execute_result",
          "data": {
            "text/plain": [
              "2"
            ]
          },
          "metadata": {},
          "execution_count": 7
        }
      ],
      "source": [
        "# 파이썬 문제풀이(1)\n",
        "\n",
        "import numpy as np\n",
        "X1 = np.array([[1, 2], [3, 5]])\n",
        "np.linalg.matrix_rank(X1)"
      ]
    },
    {
      "cell_type": "code",
      "execution_count": 8,
      "metadata": {
        "colab": {
          "base_uri": "https://localhost:8080/"
        },
        "id": "mg-lQm2J_R0f",
        "outputId": "05f5eed2-f816-4c2b-958a-8bfc61733a28"
      },
      "outputs": [
        {
          "output_type": "execute_result",
          "data": {
            "text/plain": [
              "1"
            ]
          },
          "metadata": {},
          "execution_count": 8
        }
      ],
      "source": [
        "# 파이썬 문제풀이(2)\n",
        "\n",
        "import numpy as np\n",
        "X1 = np.array([[1, 2], [3, 6]])\n",
        "np.linalg.matrix_rank(X1)"
      ]
    },
    {
      "cell_type": "code",
      "execution_count": null,
      "metadata": {
        "id": "3eshuMPc_R0f",
        "outputId": "29b963b3-1cd5-40ac-9cba-a0d25041fff7"
      },
      "outputs": [
        {
          "name": "stdout",
          "output_type": "stream",
          "text": [
            "[5, 4]\n"
          ]
        }
      ],
      "source": [
        "# 10.3 벡터의 내적과 외적\n",
        "# 10.3.1 벡터의 덧셈과 뺄셈\n",
        "# 벡터의 덧셈\n",
        "\n",
        "x=[2,3]\n",
        "y=[3,1]\n",
        "z=[i+j for i, j in zip(x,y)]\n",
        "print(z)"
      ]
    },
    {
      "cell_type": "code",
      "execution_count": null,
      "metadata": {
        "id": "zGnqLZq1_R0f",
        "outputId": "8251819f-e181-46a5-c8e8-c16ff6647324"
      },
      "outputs": [
        {
          "data": {
            "text/plain": [
              "[(1, 4), (2, 5), (3, 6)]"
            ]
          },
          "execution_count": 18,
          "metadata": {},
          "output_type": "execute_result"
        }
      ],
      "source": [
        "# 노트\n",
        "\n",
        "list(zip([1, 2, 3], [4, 5, 6]))"
      ]
    },
    {
      "cell_type": "code",
      "execution_count": null,
      "metadata": {
        "id": "kjnVJ5TH_R0f",
        "outputId": "61c717ec-5d86-4435-bb03-011ac3313d25"
      },
      "outputs": [
        {
          "data": {
            "text/plain": [
              "[(1, 4, 7), (2, 5, 8), (3, 6, 9)]"
            ]
          },
          "execution_count": 19,
          "metadata": {},
          "output_type": "execute_result"
        }
      ],
      "source": [
        "list(zip([1, 2, 3], [4, 5, 6], [7, 8, 9]))"
      ]
    },
    {
      "cell_type": "code",
      "execution_count": null,
      "metadata": {
        "id": "lkkAc6ss_R0f",
        "outputId": "134e76b8-1d2f-445f-f110-d121ea36f8a2"
      },
      "outputs": [
        {
          "name": "stdout",
          "output_type": "stream",
          "text": [
            "[5 4]\n"
          ]
        }
      ],
      "source": [
        "# NumPy 라이브러리 이용한 간단한 코드\n",
        "\n",
        "import numpy as np\n",
        "u = np.array(x)\n",
        "v = np.array(y)\n",
        "w=u+v\n",
        "print(w)"
      ]
    },
    {
      "cell_type": "code",
      "execution_count": null,
      "metadata": {
        "id": "GFwvieOv_R0f",
        "outputId": "25b6fb71-66c9-48e8-ae7f-83256d91760a"
      },
      "outputs": [
        {
          "name": "stdout",
          "output_type": "stream",
          "text": [
            "[-6 13]\n"
          ]
        }
      ],
      "source": [
        "# 파이썬 문제풀이(1)\n",
        "\n",
        "import numpy as np\n",
        "x=[-4,5]\n",
        "y=[-2,8]\n",
        "u = np.array(x)                      #,가 있으면 array를 쓰면 안됌\n",
        "v = np.array(y)\n",
        "w=u+v                               #리스트는 ,가 있고 이거는 ,가 없음\n",
        "print(w)"
      ]
    },
    {
      "cell_type": "code",
      "execution_count": null,
      "metadata": {
        "id": "PpCD7bGc_R0f",
        "outputId": "f1fc1ce4-0b0d-4ab5-aa49-70e02109a09a"
      },
      "outputs": [
        {
          "name": "stdout",
          "output_type": "stream",
          "text": [
            "[15 -1]\n"
          ]
        }
      ],
      "source": [
        "# 파이썬 문제풀이(2)\n",
        "\n",
        "import numpy as np\n",
        "x=[11,2]\n",
        "y=[4,-3]\n",
        "u = np.array(x)\n",
        "v = np.array(y)\n",
        "w=u+v\n",
        "print(w)"
      ]
    },
    {
      "cell_type": "code",
      "execution_count": null,
      "metadata": {
        "id": "57bmck3W_R0f",
        "outputId": "91873336-2a43-4ac4-a83e-c7f2dcf043c9"
      },
      "outputs": [
        {
          "name": "stdout",
          "output_type": "stream",
          "text": [
            "[-38  19]\n"
          ]
        }
      ],
      "source": [
        "# 파이썬 문제풀이(3)\n",
        "\n",
        "import numpy as np\n",
        "x=[-13,53]\n",
        "y=[-25,-34]\n",
        "u = np.array(x)\n",
        "v = np.array(y)\n",
        "w=u+v\n",
        "print(w)"
      ]
    },
    {
      "cell_type": "code",
      "execution_count": null,
      "metadata": {
        "id": "J3raqEPG_R0g",
        "outputId": "4ee535d2-8411-49fb-dd2d-0bc6e19bbe8a"
      },
      "outputs": [
        {
          "name": "stdout",
          "output_type": "stream",
          "text": [
            "[-1, 2]\n"
          ]
        }
      ],
      "source": [
        "# 벡터의 뺄셈\n",
        "\n",
        "x=[2,3]\n",
        "y=[3,1]\n",
        "z=[i-j for i, j in zip(x,y)]\n",
        "print(z)"
      ]
    },
    {
      "cell_type": "code",
      "execution_count": null,
      "metadata": {
        "id": "VUErp0sg_R0g",
        "outputId": "7bae0bc2-d7ff-4b21-8f6e-a0a3141e4f46"
      },
      "outputs": [
        {
          "name": "stdout",
          "output_type": "stream",
          "text": [
            "[-1  2]\n"
          ]
        }
      ],
      "source": [
        "# NumPy 라이브러리 이용한 간단한 코드\n",
        "\n",
        "import numpy as np\n",
        "u = np.array(x)\n",
        "v = np.array(y)\n",
        "w=u-v\n",
        "print(w)"
      ]
    },
    {
      "cell_type": "code",
      "execution_count": null,
      "metadata": {
        "id": "lNhTb5Nl_R0g",
        "outputId": "04a0f283-110e-4f3d-95c3-6561a9e997d0"
      },
      "outputs": [
        {
          "name": "stdout",
          "output_type": "stream",
          "text": [
            "[ 2 11]\n"
          ]
        }
      ],
      "source": [
        "# 파이썬 문제풀이(1)\n",
        "\n",
        "import numpy as np\n",
        "x=[-7,15]\n",
        "y=[-9,4]\n",
        "u = np.array(x)\n",
        "v = np.array(y)\n",
        "w=u-v\n",
        "print(w)"
      ]
    },
    {
      "cell_type": "code",
      "execution_count": null,
      "metadata": {
        "id": "mzwbZmm__R0g",
        "outputId": "a58154a0-7e7d-4709-db8c-2f88376c5be9"
      },
      "outputs": [
        {
          "name": "stdout",
          "output_type": "stream",
          "text": [
            "[-19  20]\n"
          ]
        }
      ],
      "source": [
        "# 파이썬 문제풀이(2)\n",
        "\n",
        "import numpy as np\n",
        "x=[-11,6]\n",
        "y=[8,-14]\n",
        "u = np.array(x)\n",
        "v = np.array(y)\n",
        "w=u-v\n",
        "print(w)"
      ]
    },
    {
      "cell_type": "code",
      "execution_count": null,
      "metadata": {
        "id": "s59V4obS_R0g",
        "outputId": "668ead97-5ff3-4c91-f582-eb2dc7a8fe87"
      },
      "outputs": [
        {
          "name": "stdout",
          "output_type": "stream",
          "text": [
            "[ 8 35]\n"
          ]
        }
      ],
      "source": [
        "# 파이썬 문제풀이(3)\n",
        "\n",
        "import numpy as np\n",
        "x=[-11,14]\n",
        "y=[-19,-21]\n",
        "u = np.array(x)\n",
        "v = np.array(y)\n",
        "w=u-v\n",
        "print(w)"
      ]
    },
    {
      "cell_type": "code",
      "execution_count": null,
      "metadata": {
        "id": "cbVSAdVe_R0g",
        "outputId": "c948b4d8-e049-49c4-a291-fa7f85b59bce"
      },
      "outputs": [
        {
          "name": "stdout",
          "output_type": "stream",
          "text": [
            "[24, 32]\n"
          ]
        }
      ],
      "source": [
        "# 10.3.2 벡터의 곱셈\n",
        "# 벡터의 내적\n",
        "\n",
        "x=[3,4]\n",
        "c=8\n",
        "z=[c*I for I in x]\n",
        "print(z)"
      ]
    },
    {
      "cell_type": "code",
      "execution_count": null,
      "metadata": {
        "id": "uxP2-XVn_R0g",
        "outputId": "4528294f-6f63-427a-8bf9-8a756902693f"
      },
      "outputs": [
        {
          "name": "stdout",
          "output_type": "stream",
          "text": [
            "[24 32]\n"
          ]
        }
      ],
      "source": [
        "# NumPy 라이브러리 이용한 간단한 코드\n",
        "\n",
        "import numpy as np\n",
        "u = np.array([3,4])\n",
        "c = 8\n",
        "w=u*c\n",
        "print(w)"
      ]
    },
    {
      "cell_type": "code",
      "execution_count": null,
      "metadata": {
        "id": "o2HzdwWE_R0h",
        "outputId": "de06e074-e548-4290-ebcb-d2eee2df9d06"
      },
      "outputs": [
        {
          "name": "stdout",
          "output_type": "stream",
          "text": [
            "72\n"
          ]
        }
      ],
      "source": [
        "# 벡터의 내적(inner product)\n",
        "\n",
        "import numpy as np\n",
        "u = np.array([6,6])\n",
        "v = np.array([12,0])\n",
        "uv = np.dot(u, v)\n",
        "print(uv)"
      ]
    },
    {
      "cell_type": "code",
      "execution_count": null,
      "metadata": {
        "id": "tBQ4A4F4_R0h",
        "outputId": "29610ea2-76e7-4fcd-fd60-26fcb7423b6d"
      },
      "outputs": [
        {
          "ename": "ValueError",
          "evalue": "shapes (1,2,3) and (1,2,3) not aligned: 3 (dim 2) != 2 (dim 1)",
          "output_type": "error",
          "traceback": [
            "\u001b[1;31m---------------------------------------------------------------------------\u001b[0m",
            "\u001b[1;31mValueError\u001b[0m                                Traceback (most recent call last)",
            "\u001b[1;32m<ipython-input-32-a3fbbf2ce60f>\u001b[0m in \u001b[0;36m<module>\u001b[1;34m\u001b[0m\n\u001b[0;32m      9\u001b[0m \u001b[0mB5\u001b[0m \u001b[1;33m=\u001b[0m \u001b[0mnp\u001b[0m\u001b[1;33m.\u001b[0m\u001b[0marange\u001b[0m\u001b[1;33m(\u001b[0m\u001b[1;36m1\u001b[0m\u001b[1;33m*\u001b[0m\u001b[1;36m2\u001b[0m\u001b[1;33m*\u001b[0m\u001b[1;36m3\u001b[0m\u001b[1;33m)\u001b[0m\u001b[1;33m.\u001b[0m\u001b[0mreshape\u001b[0m\u001b[1;33m(\u001b[0m\u001b[1;33m(\u001b[0m\u001b[1;36m3\u001b[0m\u001b[1;33m,\u001b[0m\u001b[1;36m1\u001b[0m\u001b[1;33m,\u001b[0m\u001b[1;36m2\u001b[0m\u001b[1;33m)\u001b[0m\u001b[1;33m)\u001b[0m\u001b[1;33m\u001b[0m\u001b[1;33m\u001b[0m\u001b[0m\n\u001b[0;32m     10\u001b[0m \u001b[0mB6\u001b[0m \u001b[1;33m=\u001b[0m \u001b[0mnp\u001b[0m\u001b[1;33m.\u001b[0m\u001b[0marange\u001b[0m\u001b[1;33m(\u001b[0m\u001b[1;36m1\u001b[0m\u001b[1;33m*\u001b[0m\u001b[1;36m2\u001b[0m\u001b[1;33m*\u001b[0m\u001b[1;36m3\u001b[0m\u001b[1;33m)\u001b[0m\u001b[1;33m.\u001b[0m\u001b[0mreshape\u001b[0m\u001b[1;33m(\u001b[0m\u001b[1;33m(\u001b[0m\u001b[1;36m3\u001b[0m\u001b[1;33m,\u001b[0m\u001b[1;36m2\u001b[0m\u001b[1;33m,\u001b[0m\u001b[1;36m1\u001b[0m\u001b[1;33m)\u001b[0m\u001b[1;33m)\u001b[0m\u001b[1;33m\u001b[0m\u001b[1;33m\u001b[0m\u001b[0m\n\u001b[1;32m---> 11\u001b[1;33m \u001b[0mnp\u001b[0m\u001b[1;33m.\u001b[0m\u001b[0mdot\u001b[0m\u001b[1;33m(\u001b[0m\u001b[0mA\u001b[0m\u001b[1;33m,\u001b[0m\u001b[0mB1\u001b[0m\u001b[1;33m)\u001b[0m \u001b[1;31m# 결과는 오류가 맞습니다\u001b[0m\u001b[1;33m\u001b[0m\u001b[1;33m\u001b[0m\u001b[0m\n\u001b[0m",
            "\u001b[1;32m<__array_function__ internals>\u001b[0m in \u001b[0;36mdot\u001b[1;34m(*args, **kwargs)\u001b[0m\n",
            "\u001b[1;31mValueError\u001b[0m: shapes (1,2,3) and (1,2,3) not aligned: 3 (dim 2) != 2 (dim 1)"
          ]
        }
      ],
      "source": [
        "# numpy.dot()를 이용하여 벡터의 내적\n",
        "\n",
        "import numpy as np\n",
        "A = np.arange(1*2*3).reshape((1,2,3))\n",
        "B1 = np.arange(1*2*3).reshape((1,2,3))\n",
        "B2 = np.arange(1*2*3).reshape((1,3,2))\n",
        "B3 = np.arange(1*2*3).reshape((2,1,3))\n",
        "B4 = np.arange(1*2*3).reshape((2,3,1))\n",
        "B5 = np.arange(1*2*3).reshape((3,1,2))\n",
        "B6 = np.arange(1*2*3).reshape((3,2,1))\n",
        "np.dot(A,B1) # 결과는 오류가 맞습니다"
      ]
    },
    {
      "cell_type": "code",
      "execution_count": null,
      "metadata": {
        "id": "Zx4BKvXS_R0h",
        "outputId": "d2de0b67-dd2a-4ce4-d832-08755727e54d"
      },
      "outputs": [
        {
          "data": {
            "text/plain": [
              "array([[[[10, 13]],\n",
              "\n",
              "        [[28, 40]]]])"
            ]
          },
          "execution_count": 33,
          "metadata": {},
          "output_type": "execute_result"
        }
      ],
      "source": [
        "np.dot(A,B2)"
      ]
    },
    {
      "cell_type": "code",
      "execution_count": null,
      "metadata": {
        "id": "xW0fd2cl_R0h",
        "outputId": "b7074e98-9db8-4942-f143-b6916a97047e"
      },
      "outputs": [
        {
          "ename": "ValueError",
          "evalue": "shapes (1,2,3) and (2,1,3) not aligned: 3 (dim 2) != 1 (dim 1)",
          "output_type": "error",
          "traceback": [
            "\u001b[1;31m---------------------------------------------------------------------------\u001b[0m",
            "\u001b[1;31mValueError\u001b[0m                                Traceback (most recent call last)",
            "\u001b[1;32m<ipython-input-34-94f98aeef2d9>\u001b[0m in \u001b[0;36m<module>\u001b[1;34m\u001b[0m\n\u001b[1;32m----> 1\u001b[1;33m \u001b[0mnp\u001b[0m\u001b[1;33m.\u001b[0m\u001b[0mdot\u001b[0m\u001b[1;33m(\u001b[0m\u001b[0mA\u001b[0m\u001b[1;33m,\u001b[0m\u001b[0mB3\u001b[0m\u001b[1;33m)\u001b[0m \u001b[1;31m# 결과는 오류가 맞습니다\u001b[0m\u001b[1;33m\u001b[0m\u001b[1;33m\u001b[0m\u001b[0m\n\u001b[0m",
            "\u001b[1;32m<__array_function__ internals>\u001b[0m in \u001b[0;36mdot\u001b[1;34m(*args, **kwargs)\u001b[0m\n",
            "\u001b[1;31mValueError\u001b[0m: shapes (1,2,3) and (2,1,3) not aligned: 3 (dim 2) != 1 (dim 1)"
          ]
        }
      ],
      "source": [
        "np.dot(A,B3) # 결과는 오류가 맞습니다"
      ]
    },
    {
      "cell_type": "code",
      "execution_count": null,
      "metadata": {
        "id": "4neyCfKY_R0h",
        "outputId": "5bcdf1d7-95ff-4caa-9695-b4edd6b4b82f"
      },
      "outputs": [
        {
          "data": {
            "text/plain": [
              "array([[[[ 5],\n",
              "         [14]],\n",
              "\n",
              "        [[14],\n",
              "         [50]]]])"
            ]
          },
          "execution_count": 35,
          "metadata": {},
          "output_type": "execute_result"
        }
      ],
      "source": [
        "np.dot(A,B4)"
      ]
    },
    {
      "cell_type": "code",
      "execution_count": null,
      "metadata": {
        "id": "EfsyamiN_R0h",
        "outputId": "7fa346ca-2342-4647-e375-7f18ad2323c7"
      },
      "outputs": [
        {
          "ename": "ValueError",
          "evalue": "shapes (1,2,3) and (3,1,2) not aligned: 3 (dim 2) != 1 (dim 1)",
          "output_type": "error",
          "traceback": [
            "\u001b[1;31m---------------------------------------------------------------------------\u001b[0m",
            "\u001b[1;31mValueError\u001b[0m                                Traceback (most recent call last)",
            "\u001b[1;32m<ipython-input-36-96b485137ea0>\u001b[0m in \u001b[0;36m<module>\u001b[1;34m\u001b[0m\n\u001b[1;32m----> 1\u001b[1;33m \u001b[0mnp\u001b[0m\u001b[1;33m.\u001b[0m\u001b[0mdot\u001b[0m\u001b[1;33m(\u001b[0m\u001b[0mA\u001b[0m\u001b[1;33m,\u001b[0m\u001b[0mB5\u001b[0m\u001b[1;33m)\u001b[0m \u001b[1;31m# 결과는 오류가 맞습니다\u001b[0m\u001b[1;33m\u001b[0m\u001b[1;33m\u001b[0m\u001b[0m\n\u001b[0m",
            "\u001b[1;32m<__array_function__ internals>\u001b[0m in \u001b[0;36mdot\u001b[1;34m(*args, **kwargs)\u001b[0m\n",
            "\u001b[1;31mValueError\u001b[0m: shapes (1,2,3) and (3,1,2) not aligned: 3 (dim 2) != 1 (dim 1)"
          ]
        }
      ],
      "source": [
        "np.dot(A,B5) # 결과는 오류가 맞습니다"
      ]
    },
    {
      "cell_type": "code",
      "execution_count": null,
      "metadata": {
        "id": "F5TKVfDE_R0h",
        "outputId": "23587efd-8996-4456-dfd7-080cc8fad779"
      },
      "outputs": [
        {
          "ename": "ValueError",
          "evalue": "shapes (1,2,3) and (3,2,1) not aligned: 3 (dim 2) != 2 (dim 1)",
          "output_type": "error",
          "traceback": [
            "\u001b[1;31m---------------------------------------------------------------------------\u001b[0m",
            "\u001b[1;31mValueError\u001b[0m                                Traceback (most recent call last)",
            "\u001b[1;32m<ipython-input-37-36bec492a8d6>\u001b[0m in \u001b[0;36m<module>\u001b[1;34m\u001b[0m\n\u001b[1;32m----> 1\u001b[1;33m \u001b[0mnp\u001b[0m\u001b[1;33m.\u001b[0m\u001b[0mdot\u001b[0m\u001b[1;33m(\u001b[0m\u001b[0mA\u001b[0m\u001b[1;33m,\u001b[0m\u001b[0mB6\u001b[0m\u001b[1;33m)\u001b[0m \u001b[1;31m# 결과는 오류가 맞습니다\u001b[0m\u001b[1;33m\u001b[0m\u001b[1;33m\u001b[0m\u001b[0m\n\u001b[0m",
            "\u001b[1;32m<__array_function__ internals>\u001b[0m in \u001b[0;36mdot\u001b[1;34m(*args, **kwargs)\u001b[0m\n",
            "\u001b[1;31mValueError\u001b[0m: shapes (1,2,3) and (3,2,1) not aligned: 3 (dim 2) != 2 (dim 1)"
          ]
        }
      ],
      "source": [
        "np.dot(A,B6) # 결과는 오류가 맞습니다"
      ]
    },
    {
      "cell_type": "code",
      "execution_count": null,
      "metadata": {
        "id": "FS42vPq8_R0i",
        "outputId": "b1f1eecb-58cf-4e2f-9028-fe6ea0808f67"
      },
      "outputs": [
        {
          "name": "stdout",
          "output_type": "stream",
          "text": [
            "-75\n"
          ]
        }
      ],
      "source": [
        "# 파이썬 문제풀이(1)\n",
        "\n",
        "import numpy as np\n",
        "u = np.array([3, -6])\n",
        "v = np.array([-7, 9])\n",
        "uv = np.dot(u, v)\n",
        "print(uv)"
      ]
    },
    {
      "cell_type": "code",
      "execution_count": null,
      "metadata": {
        "id": "TT3FCSYZ_R0i",
        "outputId": "7c49c9fe-aa3f-491d-9e7b-76342401e037"
      },
      "outputs": [
        {
          "name": "stdout",
          "output_type": "stream",
          "text": [
            "11\n"
          ]
        }
      ],
      "source": [
        "# 파이썬 문제풀이(2)\n",
        "\n",
        "import numpy as np\n",
        "u = np.array([-3, 4, 7])\n",
        "v = np.array([-4, -9, 5])\n",
        "uv = np.dot(u, v)\n",
        "print(uv)"
      ]
    },
    {
      "cell_type": "code",
      "execution_count": null,
      "metadata": {
        "id": "iZLO9B-x_R0l",
        "outputId": "9aa59941-3541-4e29-c9da-6dbb9ccbd746"
      },
      "outputs": [
        {
          "name": "stdout",
          "output_type": "stream",
          "text": [
            "194\n"
          ]
        }
      ],
      "source": [
        "# 파이썬 문제풀이(3)\n",
        "\n",
        "import numpy as np\n",
        "u = np.array([3, -11, 7])\n",
        "v = np.array([-4, -13, 9])\n",
        "uv = np.dot(u, v)\n",
        "print(uv)"
      ]
    },
    {
      "cell_type": "code",
      "execution_count": null,
      "metadata": {
        "id": "GFiqKHvB_R0l",
        "outputId": "9694c501-c18d-437a-f566-68ff452d3e57"
      },
      "outputs": [
        {
          "data": {
            "text/plain": [
              "[-2, 4, -2]"
            ]
          },
          "execution_count": 41,
          "metadata": {},
          "output_type": "execute_result"
        }
      ],
      "source": [
        "# 벡터의 외적\n",
        "a = (1, 3, 5)\n",
        "b = (2, 4, 6)\n",
        "\n",
        "# 벡터의 외적을 위한 수식을 함수로 구현\n",
        "def cross(a, b):\n",
        "    c = [a[1]*b[2] - a[2]*b[1],\n",
        "    a[2]*b[0] - a[0]*b[2],\n",
        "    a[0]*b[1] - a[1]*b[0]]\n",
        "    return c\n",
        "cross(a,b)"
      ]
    },
    {
      "cell_type": "code",
      "execution_count": null,
      "metadata": {
        "id": "N70fmhVG_R0l",
        "outputId": "5f6e2cb7-d1b2-4f02-d370-1abe78d36f85"
      },
      "outputs": [
        {
          "name": "stdout",
          "output_type": "stream",
          "text": [
            "[-2  4 -2]\n"
          ]
        }
      ],
      "source": [
        "# Numpy 이용한 벡터 외적 계산\n",
        "import numpy as np\n",
        "print(np.cross(a,b))    # cross() 함수 이용한 결과\n"
      ]
    },
    {
      "cell_type": "code",
      "execution_count": null,
      "metadata": {
        "id": "pfPsmMyg_R0l",
        "outputId": "10bc0c65-2cea-49c8-8ba9-700144d40045"
      },
      "outputs": [
        {
          "name": "stdout",
          "output_type": "stream",
          "text": [
            "[94 54 29]\n"
          ]
        }
      ],
      "source": [
        "# 파이썬 문제풀이(1)\n",
        "import numpy as np\n",
        "a = np.array([5, -13, 8])\n",
        "b = np.array([-2, 11, -14])\n",
        "print(np.cross(a,b))"
      ]
    },
    {
      "cell_type": "code",
      "execution_count": null,
      "metadata": {
        "id": "7VdJVqdE_R0m",
        "outputId": "b1ae24a2-0b41-4075-b923-5d1339b2ec51"
      },
      "outputs": [
        {
          "name": "stdout",
          "output_type": "stream",
          "text": [
            "[-64 142  99]\n"
          ]
        }
      ],
      "source": [
        "# 파이썬 문제풀이(2)\n",
        "import numpy as np\n",
        "a = np.array([-7, 8, -16])\n",
        "b = np.array([-8, -5, 2])\n",
        "print(np.cross(a,b))"
      ]
    },
    {
      "cell_type": "code",
      "execution_count": null,
      "metadata": {
        "id": "Pu1DrFLZ_R0m",
        "outputId": "80f0e2e9-824c-4eff-d979-731e036317c8"
      },
      "outputs": [
        {
          "name": "stdout",
          "output_type": "stream",
          "text": [
            "[1 2]\n"
          ]
        }
      ],
      "source": [
        "# 10.3.3 직교벡터\n",
        "# 벡터의 크기와 거리\n",
        "# 벡터의 크기\n",
        "\n",
        "# 벡터  = (1, 2)일 때,  의 길이를 구해 보자.\n",
        "import numpy as np\n",
        "a = np.array([1,2])\n",
        "print(a)"
      ]
    },
    {
      "cell_type": "code",
      "execution_count": null,
      "metadata": {
        "id": "F3gu_JuN_R0m",
        "outputId": "edbe0dfd-b2bc-4de9-996b-5df89197ac20"
      },
      "outputs": [
        {
          "data": {
            "text/plain": [
              "2.23606797749979"
            ]
          },
          "execution_count": 46,
          "metadata": {},
          "output_type": "execute_result"
        }
      ],
      "source": [
        "np.linalg.norm(a) # a의 길이"
      ]
    },
    {
      "cell_type": "code",
      "execution_count": null,
      "metadata": {
        "id": "MBiRvN91_R0m",
        "outputId": "a76298bb-7c1d-4229-c223-ef669e148f1c"
      },
      "outputs": [
        {
          "data": {
            "text/plain": [
              "3.0"
            ]
          },
          "execution_count": 47,
          "metadata": {},
          "output_type": "execute_result"
        }
      ],
      "source": [
        "np.linalg.norm(a, ord=1) # L1 Norm 구하기"
      ]
    },
    {
      "cell_type": "code",
      "execution_count": null,
      "metadata": {
        "id": "wYJglzkX_R0m",
        "outputId": "3622541c-ca37-4e59-f8e0-b24658387f34"
      },
      "outputs": [
        {
          "data": {
            "text/plain": [
              "2.23606797749979"
            ]
          },
          "execution_count": 48,
          "metadata": {},
          "output_type": "execute_result"
        }
      ],
      "source": [
        "np.linalg.norm(a, ord=2) # L2 Norm 구하기"
      ]
    },
    {
      "cell_type": "code",
      "execution_count": null,
      "metadata": {
        "id": "Ja8gbiiy_R0m",
        "outputId": "6e2f938f-68f3-4e5b-fc49-4752e9528adc"
      },
      "outputs": [
        {
          "data": {
            "text/plain": [
              "12.165525060596439"
            ]
          },
          "execution_count": 49,
          "metadata": {},
          "output_type": "execute_result"
        }
      ],
      "source": [
        "# 파이썬 문제풀이(1)\n",
        "\n",
        "import numpy as np\n",
        "a = np.array([-2,12])\n",
        "np.linalg.norm(a)"
      ]
    },
    {
      "cell_type": "code",
      "execution_count": null,
      "metadata": {
        "id": "1Ba_Z02a_R0m",
        "outputId": "30c87cf7-0933-47eb-8523-ec902de4522e"
      },
      "outputs": [
        {
          "data": {
            "text/plain": [
              "12.206555615733702"
            ]
          },
          "execution_count": 50,
          "metadata": {},
          "output_type": "execute_result"
        }
      ],
      "source": [
        "# 파이썬 문제풀이(2)\n",
        "\n",
        "import numpy as np\n",
        "a=np.array([5**0.5,12])\n",
        "np.linalg.norm(a)"
      ]
    },
    {
      "cell_type": "code",
      "execution_count": null,
      "metadata": {
        "id": "UESzOYdz_R0n",
        "outputId": "ddb4c59e-a8d3-4f69-d46e-5f6e003db9cd"
      },
      "outputs": [
        {
          "data": {
            "text/plain": [
              "17.26267650163207"
            ]
          },
          "execution_count": 51,
          "metadata": {},
          "output_type": "execute_result"
        }
      ],
      "source": [
        "# 파이썬 문제풀이(3)\n",
        "\n",
        "import numpy as np\n",
        "a=np.array([3,-15,8])\n",
        "np.linalg.norm(a)"
      ]
    },
    {
      "cell_type": "code",
      "execution_count": null,
      "metadata": {
        "id": "NscFw4X-_R0n",
        "outputId": "42a14291-91f4-44d2-c3df-2a768b43452c"
      },
      "outputs": [
        {
          "data": {
            "text/plain": [
              "8.660254037844387"
            ]
          },
          "execution_count": 52,
          "metadata": {},
          "output_type": "execute_result"
        }
      ],
      "source": [
        "# 파이썬 문제풀이(4)\n",
        "\n",
        "import numpy as np\n",
        "a=np.array([-7,10**0.5,4])\n",
        "np.linalg.norm(a)"
      ]
    },
    {
      "cell_type": "code",
      "execution_count": null,
      "metadata": {
        "id": "bp_puFZ1_R0n",
        "outputId": "c7e7387f-2529-4c11-c7b6-209f2a74ddcb"
      },
      "outputs": [
        {
          "name": "stdout",
          "output_type": "stream",
          "text": [
            "Euclidean distance:  5.196152422706632\n"
          ]
        }
      ],
      "source": [
        "# 벡터의 거리/유사도\n",
        "# Python을 활용한 벡터의 거리계산(유클리드 거리)\n",
        "\n",
        "# scipy.spatia 모듈로부터 distance 함수 호출\n",
        "from scipy.spatial import distance\n",
        "\n",
        "# 두 점 P1과 P2 명시\n",
        "p1 = (1, 2, 3)\n",
        "p2 = (4, 5, 6)\n",
        "\n",
        "# P1과 P2 사이의 유클리드 거리 계산\n",
        "d = distance.euclidean(p1, p2)\n",
        "print(\"Euclidean distance: \",d)"
      ]
    },
    {
      "cell_type": "code",
      "execution_count": null,
      "metadata": {
        "id": "n7baaeUG_R0n",
        "outputId": "6da46a85-0f29-4fc2-e743-6c87f617cb3d"
      },
      "outputs": [
        {
          "data": {
            "text/plain": [
              "9"
            ]
          },
          "execution_count": 54,
          "metadata": {},
          "output_type": "execute_result"
        }
      ],
      "source": [
        "# 맨해튼 거리(Manhattan distance)\n",
        "\n",
        "# math 함수 호출\n",
        "from math import*\n",
        "\n",
        "# 두 점 P1과 P2 정의\n",
        "p1 = (1, 2, 3)\n",
        "p2 = (4, 5, 6)\n",
        "\n",
        "# 맨해튼 거리를 계산하기 위한 사용자 정의 함수 생성\n",
        "def manhattan_distance(x,y):\n",
        "    return sum(abs(a-b) for a,b in zip(x,y))\n",
        "\n",
        "# P1과 P2 사이의 맨해튼 거리 계산\n",
        "manhattan_distance(p1,p2)"
      ]
    },
    {
      "cell_type": "code",
      "execution_count": null,
      "metadata": {
        "id": "ThRtpjGu_R0n",
        "outputId": "07b801f7-61ec-434a-f533-3c8a2865a54b"
      },
      "outputs": [
        {
          "name": "stdout",
          "output_type": "stream",
          "text": [
            "0.5773502691896258\n",
            "0.8838834764831843\n",
            "0.8164965809277259\n"
          ]
        }
      ],
      "source": [
        "# 코사인 유사도(Cosine Similarity)\n",
        "\n",
        "from numpy import dot\n",
        "from numpy.linalg import norm\n",
        "import numpy as np\n",
        "\n",
        "def cos_sim(A, B):\n",
        "    return dot(A, B)/(norm(A)*norm(B))\n",
        "\n",
        "doc1=np.array([1,1,1,1,0])\n",
        "doc2=np.array([1,0,1,0,1])\n",
        "doc3=np.array([2,1,1,1,1])\n",
        "\n",
        "print(cos_sim(doc1, doc2)) #문서1과 문서2의 코사인 유사도\n",
        "print(cos_sim(doc1, doc3)) #문서1과 문서3의 코사인 유사도\n",
        "print(cos_sim(doc2, doc3)) #문서2과 문서3의 코사인 유사도"
      ]
    },
    {
      "cell_type": "code",
      "execution_count": null,
      "metadata": {
        "id": "oP4xRz7x_R0n",
        "outputId": "d9b161eb-62b0-4ecb-9868-b5b13dd8a563"
      },
      "outputs": [
        {
          "name": "stdout",
          "output_type": "stream",
          "text": [
            "[[ 1.  0.  0.  0.]\n",
            " [-2.  1.  0.  0.]\n",
            " [-3.  0.  1.  0.]\n",
            " [-4. -0. -0.  1.]]\n"
          ]
        }
      ],
      "source": [
        "# 11장 행렬변환\n",
        "# 11.2 역함수와 역변환\n",
        "# 11.2.2 역행렬\n",
        "\n",
        "import numpy as np\n",
        "A = np.matrix([[1, 0, 0, 0], [2, 1, 0, 0], [3, 0, 1, 0], [4, 0, 0, 1]])\n",
        "print(np.linalg.inv(A))"
      ]
    },
    {
      "cell_type": "code",
      "execution_count": null,
      "metadata": {
        "id": "D716Cbiu_R0n",
        "outputId": "2fa26299-7c24-475e-aaec-30a59b0c0dec"
      },
      "outputs": [
        {
          "name": "stdout",
          "output_type": "stream",
          "text": [
            "[[-2.   1. ]\n",
            " [ 1.5 -0.5]]\n"
          ]
        }
      ],
      "source": [
        "# 파이썬 문제풀이(1)\n",
        "\n",
        "import numpy as np\n",
        "A = np.matrix([[1,2],[3,4]])\n",
        "print(np.linalg.inv(A))"
      ]
    },
    {
      "cell_type": "code",
      "execution_count": null,
      "metadata": {
        "id": "am9jAgDD_R0o",
        "outputId": "0df893b2-a1a8-4f8d-85bf-b9c07267c60b"
      },
      "outputs": [
        {
          "ename": "LinAlgError",
          "evalue": "Singular matrix",
          "output_type": "error",
          "traceback": [
            "\u001b[1;31m---------------------------------------------------------------------------\u001b[0m",
            "\u001b[1;31mLinAlgError\u001b[0m                               Traceback (most recent call last)",
            "\u001b[1;32m<ipython-input-58-484cc664a1ff>\u001b[0m in \u001b[0;36m<module>\u001b[1;34m\u001b[0m\n\u001b[0;32m      3\u001b[0m \u001b[1;32mimport\u001b[0m \u001b[0mnumpy\u001b[0m \u001b[1;32mas\u001b[0m \u001b[0mnp\u001b[0m\u001b[1;33m\u001b[0m\u001b[1;33m\u001b[0m\u001b[0m\n\u001b[0;32m      4\u001b[0m \u001b[0mA\u001b[0m \u001b[1;33m=\u001b[0m \u001b[0mnp\u001b[0m\u001b[1;33m.\u001b[0m\u001b[0mmatrix\u001b[0m\u001b[1;33m(\u001b[0m\u001b[1;33m[\u001b[0m\u001b[1;33m[\u001b[0m\u001b[1;36m2\u001b[0m\u001b[1;33m,\u001b[0m\u001b[1;36m3\u001b[0m\u001b[1;33m]\u001b[0m\u001b[1;33m,\u001b[0m\u001b[1;33m[\u001b[0m\u001b[1;36m4\u001b[0m\u001b[1;33m,\u001b[0m\u001b[1;36m6\u001b[0m\u001b[1;33m]\u001b[0m\u001b[1;33m]\u001b[0m\u001b[1;33m)\u001b[0m\u001b[1;33m\u001b[0m\u001b[1;33m\u001b[0m\u001b[0m\n\u001b[1;32m----> 5\u001b[1;33m \u001b[0mprint\u001b[0m\u001b[1;33m(\u001b[0m\u001b[0mnp\u001b[0m\u001b[1;33m.\u001b[0m\u001b[0mlinalg\u001b[0m\u001b[1;33m.\u001b[0m\u001b[0minv\u001b[0m\u001b[1;33m(\u001b[0m\u001b[0mA\u001b[0m\u001b[1;33m)\u001b[0m\u001b[1;33m)\u001b[0m \u001b[1;31m# 결과는 오류가 맞습니다\u001b[0m\u001b[1;33m\u001b[0m\u001b[1;33m\u001b[0m\u001b[0m\n\u001b[0m",
            "\u001b[1;32m<__array_function__ internals>\u001b[0m in \u001b[0;36minv\u001b[1;34m(*args, **kwargs)\u001b[0m\n",
            "\u001b[1;32m~\\anaconda3\\lib\\site-packages\\numpy\\linalg\\linalg.py\u001b[0m in \u001b[0;36minv\u001b[1;34m(a)\u001b[0m\n\u001b[0;32m    545\u001b[0m     \u001b[0msignature\u001b[0m \u001b[1;33m=\u001b[0m \u001b[1;34m'D->D'\u001b[0m \u001b[1;32mif\u001b[0m \u001b[0misComplexType\u001b[0m\u001b[1;33m(\u001b[0m\u001b[0mt\u001b[0m\u001b[1;33m)\u001b[0m \u001b[1;32melse\u001b[0m \u001b[1;34m'd->d'\u001b[0m\u001b[1;33m\u001b[0m\u001b[1;33m\u001b[0m\u001b[0m\n\u001b[0;32m    546\u001b[0m     \u001b[0mextobj\u001b[0m \u001b[1;33m=\u001b[0m \u001b[0mget_linalg_error_extobj\u001b[0m\u001b[1;33m(\u001b[0m\u001b[0m_raise_linalgerror_singular\u001b[0m\u001b[1;33m)\u001b[0m\u001b[1;33m\u001b[0m\u001b[1;33m\u001b[0m\u001b[0m\n\u001b[1;32m--> 547\u001b[1;33m     \u001b[0mainv\u001b[0m \u001b[1;33m=\u001b[0m \u001b[0m_umath_linalg\u001b[0m\u001b[1;33m.\u001b[0m\u001b[0minv\u001b[0m\u001b[1;33m(\u001b[0m\u001b[0ma\u001b[0m\u001b[1;33m,\u001b[0m \u001b[0msignature\u001b[0m\u001b[1;33m=\u001b[0m\u001b[0msignature\u001b[0m\u001b[1;33m,\u001b[0m \u001b[0mextobj\u001b[0m\u001b[1;33m=\u001b[0m\u001b[0mextobj\u001b[0m\u001b[1;33m)\u001b[0m\u001b[1;33m\u001b[0m\u001b[1;33m\u001b[0m\u001b[0m\n\u001b[0m\u001b[0;32m    548\u001b[0m     \u001b[1;32mreturn\u001b[0m \u001b[0mwrap\u001b[0m\u001b[1;33m(\u001b[0m\u001b[0mainv\u001b[0m\u001b[1;33m.\u001b[0m\u001b[0mastype\u001b[0m\u001b[1;33m(\u001b[0m\u001b[0mresult_t\u001b[0m\u001b[1;33m,\u001b[0m \u001b[0mcopy\u001b[0m\u001b[1;33m=\u001b[0m\u001b[1;32mFalse\u001b[0m\u001b[1;33m)\u001b[0m\u001b[1;33m)\u001b[0m\u001b[1;33m\u001b[0m\u001b[1;33m\u001b[0m\u001b[0m\n\u001b[0;32m    549\u001b[0m \u001b[1;33m\u001b[0m\u001b[0m\n",
            "\u001b[1;32m~\\anaconda3\\lib\\site-packages\\numpy\\linalg\\linalg.py\u001b[0m in \u001b[0;36m_raise_linalgerror_singular\u001b[1;34m(err, flag)\u001b[0m\n\u001b[0;32m     95\u001b[0m \u001b[1;33m\u001b[0m\u001b[0m\n\u001b[0;32m     96\u001b[0m \u001b[1;32mdef\u001b[0m \u001b[0m_raise_linalgerror_singular\u001b[0m\u001b[1;33m(\u001b[0m\u001b[0merr\u001b[0m\u001b[1;33m,\u001b[0m \u001b[0mflag\u001b[0m\u001b[1;33m)\u001b[0m\u001b[1;33m:\u001b[0m\u001b[1;33m\u001b[0m\u001b[1;33m\u001b[0m\u001b[0m\n\u001b[1;32m---> 97\u001b[1;33m     \u001b[1;32mraise\u001b[0m \u001b[0mLinAlgError\u001b[0m\u001b[1;33m(\u001b[0m\u001b[1;34m\"Singular matrix\"\u001b[0m\u001b[1;33m)\u001b[0m\u001b[1;33m\u001b[0m\u001b[1;33m\u001b[0m\u001b[0m\n\u001b[0m\u001b[0;32m     98\u001b[0m \u001b[1;33m\u001b[0m\u001b[0m\n\u001b[0;32m     99\u001b[0m \u001b[1;32mdef\u001b[0m \u001b[0m_raise_linalgerror_nonposdef\u001b[0m\u001b[1;33m(\u001b[0m\u001b[0merr\u001b[0m\u001b[1;33m,\u001b[0m \u001b[0mflag\u001b[0m\u001b[1;33m)\u001b[0m\u001b[1;33m:\u001b[0m\u001b[1;33m\u001b[0m\u001b[1;33m\u001b[0m\u001b[0m\n",
            "\u001b[1;31mLinAlgError\u001b[0m: Singular matrix"
          ]
        }
      ],
      "source": [
        "# 파이썬 문제풀이(2)\n",
        "\n",
        "import numpy as np\n",
        "A = np.matrix([[2,3],[4,6]])\n",
        "print(np.linalg.inv(A)) # 결과는 오류가 맞습니다"
      ]
    },
    {
      "cell_type": "code",
      "execution_count": null,
      "metadata": {
        "id": "2ZWyveMO_R0o",
        "outputId": "f571ff1e-ece5-4ca1-9967-0387078fab23"
      },
      "outputs": [
        {
          "name": "stdout",
          "output_type": "stream",
          "text": [
            "[[ 0  1  2  3  4]\n",
            " [ 5  6  7  8  9]\n",
            " [10 11 12 13 14]]\n"
          ]
        }
      ],
      "source": [
        "# 11.3 전치행렬\n",
        "# 11.3.1 전치행렬이란\n",
        "\n",
        "import numpy as np\n",
        "a = np.arange(15).reshape(3, 5)\n",
        "print(a)"
      ]
    },
    {
      "cell_type": "code",
      "execution_count": null,
      "metadata": {
        "id": "i-a3oy-l_R0o",
        "outputId": "9e50eaea-e367-4784-9005-82b48ca1c700"
      },
      "outputs": [
        {
          "data": {
            "text/plain": [
              "array([[ 0,  5, 10],\n",
              "       [ 1,  6, 11],\n",
              "       [ 2,  7, 12],\n",
              "       [ 3,  8, 13],\n",
              "       [ 4,  9, 14]])"
            ]
          },
          "execution_count": 60,
          "metadata": {},
          "output_type": "execute_result"
        }
      ],
      "source": [
        "np.transpose(a)"
      ]
    },
    {
      "cell_type": "code",
      "execution_count": null,
      "metadata": {
        "id": "AetHm_Gl_R0o",
        "outputId": "dc244df6-a0a5-434d-9101-a94f445edca4"
      },
      "outputs": [
        {
          "name": "stdout",
          "output_type": "stream",
          "text": [
            "[5.44948974 0.55051026]\n",
            "[[ 0.91209559  0.21927526]\n",
            " [-0.40997761  0.97566304]]\n"
          ]
        }
      ],
      "source": [
        "# 12장 상호좌표계\n",
        "# 12.1 고유값(eigenvalue), 고유벡터(eigenvector), 공유공간\n",
        "# 12.1.1 고유값과 고유벡터란\n",
        "\n",
        "import numpy as np\n",
        "a = np.array([[5,-1],[-2,1]])\n",
        "w, v = np.linalg.eig(a)\n",
        "\n",
        "print(w)\n",
        "print(v)"
      ]
    },
    {
      "cell_type": "code",
      "execution_count": null,
      "metadata": {
        "id": "zbas524W_R0o",
        "outputId": "68cfef58-0166-4def-e216-28ed840d4c9f"
      },
      "outputs": [
        {
          "name": "stdout",
          "output_type": "stream",
          "text": [
            "[-2.  5.]\n",
            "[[-0.70710678 -0.6       ]\n",
            " [ 0.70710678 -0.8       ]]\n"
          ]
        }
      ],
      "source": [
        "# 파이썬 문제풀이\n",
        "import numpy as np\n",
        "a = np.array([[1,3],[4,2]])\n",
        "w, v = np.linalg.eig(a)\n",
        "print(w)\n",
        "print(v)"
      ]
    },
    {
      "cell_type": "code",
      "execution_count": null,
      "metadata": {
        "id": "zNZeRHXv_R0o"
      },
      "outputs": [],
      "source": []
    }
  ],
  "metadata": {
    "kernelspec": {
      "display_name": "Python 3",
      "language": "python",
      "name": "python3"
    },
    "language_info": {
      "codemirror_mode": {
        "name": "ipython",
        "version": 3
      },
      "file_extension": ".py",
      "mimetype": "text/x-python",
      "name": "python",
      "nbconvert_exporter": "python",
      "pygments_lexer": "ipython3",
      "version": "3.7.6"
    },
    "colab": {
      "provenance": []
    }
  },
  "nbformat": 4,
  "nbformat_minor": 0
}